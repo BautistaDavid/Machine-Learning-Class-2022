{
  "nbformat": 4,
  "nbformat_minor": 0,
  "metadata": {
    "colab": {
      "name": "Proyecto2.ipynb",
      "provenance": [],
      "collapsed_sections": [],
      "authorship_tag": "ABX9TyP4wrRFnRy05rOhq+5l22zM",
      "include_colab_link": true
    },
    "kernelspec": {
      "name": "python3",
      "display_name": "Python 3"
    },
    "language_info": {
      "name": "python"
    }
  },
  "cells": [
    {
      "cell_type": "markdown",
      "metadata": {
        "id": "view-in-github",
        "colab_type": "text"
      },
      "source": [
        "<a href=\"https://colab.research.google.com/github/BautistaDavid/Proyectos_ClaseML/blob/corte_1/Proyecto2.ipynb\" target=\"_parent\"><img src=\"https://colab.research.google.com/assets/colab-badge.svg\" alt=\"Open In Colab\"/></a>"
      ]
    },
    {
      "cell_type": "code",
      "execution_count": null,
      "metadata": {
        "id": "towP2woMGVuP"
      },
      "outputs": [],
      "source": [
        "!pip install wooldridge"
      ]
    },
    {
      "cell_type": "markdown",
      "source": [
        "## **Proyecto 2**\n",
        "\n",
        "Se va a construir un objeto para poder hallar algunas estadísticas descriptivas de un vector numérico de datos. Después de esto se va aprobar la clase construida usando algunas variables de la base de datos “wage1” del libro de wooldridge.  "
      ],
      "metadata": {
        "id": "yWT-VJPxGcx4"
      }
    },
    {
      "cell_type": "code",
      "source": [
        "class estadisticos:\n",
        "  \n",
        "  def __init__(self,lst):\n",
        "    self.lst = lst\n",
        "    return None\n",
        "\n",
        "  def media(self): \n",
        "    return sum(self.lst) / len(self.lst)\n",
        "\n",
        "  def test(self):\n",
        "    return self.media()\n",
        "  \n",
        "  def desv_est(self):\n",
        "    return (sum([(i - self.media())**2 for i in self.lst]) / (len(self.lst)-1))**0.5  \n",
        "\n",
        "  def varianza(self):\n",
        "    return self.desv_est()**2\n",
        "\n",
        "  def mediana(self):\n",
        "    return sorted(self.lst)[len(self.lst)//2] if len(self.lst)%2 != 0 else (sorted(self.lst)[len(self.lst)//2-1]+sorted(self.lst)[len(self.lst)//2]) / 2\n",
        "  \n",
        "  def curtosis(self):\n",
        "    return  sum([(i - self.media())**4 for i in self.lst]) / (len(self.lst)*self.desv_est()**4)\n",
        "\n",
        "  def simetria(self):\n",
        "    return  sum([(i -self.media())**3 for i in self.lst]) / (len(self.lst)*self.desv_est()**3)\n",
        "  \n",
        "  def coeficiente_variacion(self):\n",
        "    return self.desv_est() / abs(self.media()) "
      ],
      "metadata": {
        "id": "GzEwgScJGhZg"
      },
      "execution_count": null,
      "outputs": []
    },
    {
      "cell_type": "markdown",
      "source": [
        "Se va a probar la clase para las variables ```wage``` y ```educ``` de la bse de datos ```wage1```. A continuación se despliega información sobre estos datos. "
      ],
      "metadata": {
        "id": "5YEIpdeDG9EN"
      }
    },
    {
      "cell_type": "code",
      "source": [
        "import wooldridge as wd\n",
        "wd.data(\"wage1\",description = True) #Accedemos a información sobre las variables."
      ],
      "metadata": {
        "colab": {
          "base_uri": "https://localhost:8080/"
        },
        "id": "9rzpYpKsG1XU",
        "outputId": "0174655d-eda2-4b6e-886a-a26eaa8e6875"
      },
      "execution_count": null,
      "outputs": [
        {
          "output_type": "stream",
          "name": "stdout",
          "text": [
            "name of dataset: wage1\n",
            "no of variables: 24\n",
            "no of observations: 526\n",
            "\n",
            "+----------+---------------------------------+\n",
            "| variable | label                           |\n",
            "+----------+---------------------------------+\n",
            "| wage     | average hourly earnings         |\n",
            "| educ     | years of education              |\n",
            "| exper    | years potential experience      |\n",
            "| tenure   | years with current employer     |\n",
            "| nonwhite | =1 if nonwhite                  |\n",
            "| female   | =1 if female                    |\n",
            "| married  | =1 if married                   |\n",
            "| numdep   | number of dependents            |\n",
            "| smsa     | =1 if live in SMSA              |\n",
            "| northcen | =1 if live in north central U.S |\n",
            "| south    | =1 if live in southern region   |\n",
            "| west     | =1 if live in western region    |\n",
            "| construc | =1 if work in construc. indus.  |\n",
            "| ndurman  | =1 if in nondur. manuf. indus.  |\n",
            "| trcommpu | =1 if in trans, commun, pub ut  |\n",
            "| trade    | =1 if in wholesale or retail    |\n",
            "| services | =1 if in services indus.        |\n",
            "| profserv | =1 if in prof. serv. indus.     |\n",
            "| profocc  | =1 if in profess. occupation    |\n",
            "| clerocc  | =1 if in clerical occupation    |\n",
            "| servocc  | =1 if in service occupation     |\n",
            "| lwage    | log(wage)                       |\n",
            "| expersq  | exper^2                         |\n",
            "| tenursq  | tenure^2                        |\n",
            "+----------+---------------------------------+\n",
            "\n",
            "These are data from the 1976 Current Population Survey, collected by\n",
            "Henry Farber when he and I were colleagues at MIT in 1988.\n"
          ]
        }
      ]
    },
    {
      "cell_type": "code",
      "source": [
        "import numpy as np\n",
        "import pandas as pd \n",
        "datos = wd.data(\"wage1\")\n",
        "\n",
        "for i in [\"wage\",\"educ\"]:\n",
        "  stats = estadisticos(datos[i])\n",
        "  mensaje = f\"Error\"\n",
        "  funciones = {\"Media\":[stats.media(),np.mean(datos[i])],\n",
        "               \"Mediana\":[stats.mediana(),np.median(datos[i])],\n",
        "               \"Desviación estandar\":[stats.desv_est(),np.std(datos[i])],\n",
        "               \"Varianza\":[stats.varianza(),np.var(datos[i])],\n",
        "               \"Coeficiente Variación\":[stats.coeficiente_variacion(),np.std(datos[i])/np.mean(datos[i])]}\n",
        "  print(f\"Estadisticas {i}\")             \n",
        "  for key,value in funciones.items():\n",
        "    try:\n",
        "      assert value[0]==value[1],mensaje\n",
        "      print(f\"{key} = {value[1]} --> Coincide con Numpy\")\n",
        "    except:\n",
        "      print(f\"{key} = {value[1]} --> No Coincide con Numpy, hay una diferencia de {abs(value[1]-value[0])}\")\n",
        "  print(\"___________________________________________\\n \")\n"
      ],
      "metadata": {
        "colab": {
          "base_uri": "https://localhost:8080/"
        },
        "id": "k9cRFcBYHUN0",
        "outputId": "bbc8d109-0686-4503-92bc-60b7862b00a7"
      },
      "execution_count": null,
      "outputs": [
        {
          "output_type": "stream",
          "name": "stdout",
          "text": [
            "Estadisticas wage\n",
            "Media = 5.896102674787035 --> Coincide con Numpy\n",
            "Mediana = 4.650000095367432 --> Coincide con Numpy\n",
            "Desviación estandar = 3.6895738135753655 --> No Coincide con Numpy, hay una diferencia de 0.0035122081380483117\n",
            "Varianza = 13.612954925821066 --> No Coincide con Numpy, hay una diferencia de 0.02592943795394298\n",
            "Coeficiente Variación = 0.6257648513063981 --> No Coincide con Numpy, hay una diferencia de 0.0005956830014286485\n",
            "___________________________________________\n",
            " \n",
            "Estadisticas educ\n",
            "Media = 12.562737642585551 --> Coincide con Numpy\n",
            "Mediana = 12.0 --> Coincide con Numpy\n",
            "Desviación estandar = 2.766388999158773 --> No Coincide con Numpy, hay una diferencia de 0.00263340278492441\n",
            "Varianza = 7.652908094666679 --> No Coincide con Numpy, hay una diferencia de 0.014576967799365015\n",
            "Coeficiente Variación = 0.220205903988728 --> No Coincide con Numpy, hay una diferencia de 0.0002096201369355677\n",
            "___________________________________________\n",
            " \n"
          ]
        }
      ]
    },
    {
      "cell_type": "markdown",
      "source": [
        "### **Analizis resultados:** \n",
        "\n",
        "\n",
        "*   **Variable wage**: \n",
        "\n",
        "| Estadistico  |Valor     |\n",
        "|--------------|----------|\n",
        "| Media        |  5.89    |\n",
        "| Mediana      |  4.65    |\n",
        "| Desviación.E |  3.69    |\n",
        "| Varianza     |  13.64   | \n",
        "| Coeficiente.V|  0.63    |\n",
        "<Br>\n",
        "\n",
        "Las ganancia promedio por hora (salario) de la muesta de población americana para el año de 1976 era de 5.89 USD, notese que esta cantidad de dinero o superior era percibida por menos de la mitad de los individuos puesto que la mediana de los datos es de apenas 4.65 USD. \n",
        "\n",
        "Asi mismo se puede comentar que en promedio las ganancias por hora de los individuos se desvian 3.693 USD de la media, lo cual muestra un alto nivel de variación en los salarios que se pueden confirmar interpretando el coeficiente de variación de los datos que haciende hasta un 0.62. \n",
        "\n",
        "Esto se puede succeder debido alguna fijacion de salario minimo que afecta a parte de los individuos mientras que el resto con mejores puestos logran obtener salarios mas altos. \n",
        "<Br>\n",
        "\n",
        "* **Variable educ**:\n",
        "\n",
        "| Estadistico  |Valor      |\n",
        "|--------------|-----------|\n",
        "| Media        |  12.56    |\n",
        "| Mediana      |  12       |\n",
        "| Desviación.E |  2.77     |\n",
        "| Varianza     |  7.67     | \n",
        "| Coeficiente.V|  0.22     |\n",
        "<Br>\n",
        "\n",
        "Los años de educacuin promedio de la muestra de población americana para el año 1976 es de 12.65 años, notese que la mitad de los individuos por lo menos contaban con 12 años de educación.\n",
        "\n",
        "Por otro lado se puede notar como en promedio los años de educacion de los individuos se desviaban de la media en 2.77 años, lo cual nos indica un bajo nivel de dispersion, esto puede ser causado por el hecho de que algunos individuos lograron terminar sus ciclos de primaria y bachillerato mientras que otros lograron adicionar algunos años de educacion extra en estudios profesionales.\n",
        "\n",
        "Aun asi el coeficiente de variación de los años de educación es apenas de 0.22, lo que tambien es un indicativo de que el sistema educativo y gobierno del momento lograba que la diferencia en años de educación de los individuos no fuera tan alta.\n",
        "\n",
        "\n",
        "\n",
        "\n",
        "\n"
      ],
      "metadata": {
        "id": "bsI-39ILbrlq"
      }
    },
    {
      "cell_type": "code",
      "source": [
        ""
      ],
      "metadata": {
        "id": "zFAAY-ASbmKC"
      },
      "execution_count": null,
      "outputs": []
    },
    {
      "cell_type": "code",
      "source": [
        ""
      ],
      "metadata": {
        "id": "7DuISURibmRK"
      },
      "execution_count": null,
      "outputs": []
    },
    {
      "cell_type": "code",
      "source": [
        ""
      ],
      "metadata": {
        "id": "2iEhQxFDbmUm"
      },
      "execution_count": null,
      "outputs": []
    }
  ]
}
