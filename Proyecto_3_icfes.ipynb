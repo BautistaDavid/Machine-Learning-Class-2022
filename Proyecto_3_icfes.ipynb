{
  "nbformat": 4,
  "nbformat_minor": 0,
  "metadata": {
    "colab": {
      "name": "proyecto_3_icfes.ipynb",
      "provenance": [],
      "collapsed_sections": [],
      "authorship_tag": "ABX9TyMYRnpcYoWPOT1tyJHeRUPx",
      "include_colab_link": true
    },
    "kernelspec": {
      "name": "python3",
      "display_name": "Python 3"
    },
    "language_info": {
      "name": "python"
    }
  },
  "cells": [
    {
      "cell_type": "markdown",
      "metadata": {
        "id": "view-in-github",
        "colab_type": "text"
      },
      "source": [
        "<a href=\"https://colab.research.google.com/github/BautistaDavid/Proyectos_ClaseML/blob/corte_1/proyecto_3_icfes.ipynb\" target=\"_parent\"><img src=\"https://colab.research.google.com/assets/colab-badge.svg\" alt=\"Open In Colab\"/></a>"
      ]
    },
    {
      "cell_type": "markdown",
      "source": [
        "## **Proyecto 3 - Manejo datos Icfes**\n",
        "\n",
        "La idea del proyecto es la creacion de un objeto que permita interactuar con unos registros que estan en tuplas dentro de una tupla previamente construidas con un archivo .txt con datos sobre el examen del icfes para el año 2020. "
      ],
      "metadata": {
        "id": "62wKWv_2BY62"
      }
    },
    {
      "cell_type": "markdown",
      "source": [
        "#### **Manejo del archivo .txt** \n",
        "\n",
        "Se usan los metodos ```open()``` y ```read()``` para poder iterar sobre el archivo .txt, de modo que usando bucles y la funcion split() se cree una tupla por registro y el conjunto de todos estos se agrupen en otra tupla.  \n",
        "\n"
      ],
      "metadata": {
        "id": "gDY34Y0tD9bH"
      }
    },
    {
      "cell_type": "code",
      "source": [
        "datos_icfes = open(\"SaberPro_Genéricas_2020.txt\",\"r\",encoding = \"utf-8\")\n",
        "datos = [tuple(i.split(\"¬\")) for i in datos_icfes.read().split(\"\\n\")]\n",
        "datos.pop()   # Usamos el.pop() para evitar un erro de indice un metodo que navegue por la columnas de los datos\n",
        "datos = tuple(datos)\n",
        "#Imprimamos algunos datos de nuestro primer registro, solo para visualizar la estructura en tuplas.  \n",
        "datos[0][1::10]"
      ],
      "metadata": {
        "id": "_piGilaadfwS",
        "colab": {
          "base_uri": "https://localhost:8080/"
        },
        "outputId": "125f2d32-f3fd-4a1c-dedc-868b161ea1c3"
      },
      "execution_count": 4,
      "outputs": [
        {
          "output_type": "execute_result",
          "data": {
            "text/plain": [
              "('ESTU_NACIONALIDAD',\n",
              " 'ESTU_MCPIO_RESIDE',\n",
              " 'ESTU_PAGOMATRICULACREDITO',\n",
              " 'ESTU_TIPODOCUMENTOSB11',\n",
              " 'FAMI_TIENELAVADORA',\n",
              " 'ESTU_PRGM_ACADEMICO',\n",
              " 'ESTU_INST_MUNICIPIO',\n",
              " 'MOD_RAZONA_CUANTITAT_DESEM',\n",
              " 'MOD_COMPETEN_CIUDADA_PNBC',\n",
              " 'PERCENTIL_NBC')"
            ]
          },
          "metadata": {},
          "execution_count": 4
        }
      ]
    },
    {
      "cell_type": "markdown",
      "source": [
        "### **Creación del objeto**\n",
        "\n",
        "El objeto contara con 4 metodos princiaples, ```registro()```,```columna()```,```filtrar()```, ```summary_col()```. \n",
        "\n",
        "\n"
      ],
      "metadata": {
        "id": "FfbfKRd0I33C"
      }
    },
    {
      "cell_type": "code",
      "source": [
        "import pandas as pd \n",
        "import numpy as np \n",
        "import seaborn as sns\n",
        "\n",
        "class interactuar(object):\n",
        "  def __init__(self, datos):\n",
        "    self.datos = datos\n",
        "  \n",
        "  def registro(self, regis:int) -> tuple:\n",
        "    \"\"\"\n",
        "    regis : Numero del registro que se quiere acceder \n",
        "    \"\"\"\n",
        "    return self.datos[regis]\n",
        "\n",
        "  def columna(self, col:str) -> list:\n",
        "    \"\"\"\n",
        "    col: Nombre de la columna a la que se quiere acceder. \n",
        "    \"\"\"\n",
        "    return [i[self.datos[0].index(col)] for i in self.datos]\n",
        "\n",
        "  def filtrar(self,condicion:str,col:str):\n",
        "    \"\"\"\n",
        "    col: Nombre de la columna a la que se quiere acceder.\n",
        "    condicion: se debe ingresar una condicion numerica usando la palabra \"variable\".\n",
        "              ejemplo: variable>10 \n",
        "    \"\"\"\n",
        "    return list(filter(lambda variable:eval(condicion),[int(i) for i in self.columna(col)[1:]]))\n",
        "  \n",
        "  def summary_col(self, col:str,plot=False):\n",
        "    self.__array = [int(i) for i in self.columna(col)[1:]]\n",
        "    self.__media = sum(self.__array)/len(self.__array)\n",
        "    self.__varianza = sum([(i - self.__media)**2 for i in self.__array])/len(self.__array) \n",
        "    self.__desv = self.__varianza**(1/2)\n",
        "    self.__mediana = np.median(self.__array)\n",
        "    sns.distplot(self.__array) if plot==True else None\n",
        "    print(\" \")\n",
        "\n",
        "    return print(f\"Media: {self.__media}\\nVarianza: {self.__varianza}\\nDesviación.E: {self.__desv}\\nMediana: {self.__mediana}\")\n"
      ],
      "metadata": {
        "id": "jU8Ow2QFQFrL"
      },
      "execution_count": 29,
      "outputs": []
    },
    {
      "cell_type": "code",
      "source": [
        "\n"
      ],
      "metadata": {
        "id": "hTiyQORaYxea"
      },
      "execution_count": 42,
      "outputs": []
    },
    {
      "cell_type": "markdown",
      "source": [
        "### **Testeo de metodos del objeto** "
      ],
      "metadata": {
        "id": "5QWMvC-kiWPt"
      }
    },
    {
      "cell_type": "code",
      "source": [
        "import numpy as np\n",
        "interact = interactuar(datos)\n",
        "interact.summary_col(\"PUNT_GLOBAL\",plot=True)   # el argumento plot da la opcion de desplegar una grafica de distribución sobre los datos "
      ],
      "metadata": {
        "colab": {
          "base_uri": "https://localhost:8080/",
          "height": 414
        },
        "id": "DfyKZtbxZHx9",
        "outputId": "31dbabf3-1b46-4c02-e35a-3ce6a9a0692d"
      },
      "execution_count": 47,
      "outputs": [
        {
          "output_type": "stream",
          "name": "stderr",
          "text": [
            "/usr/local/lib/python3.7/dist-packages/seaborn/distributions.py:2619: FutureWarning: `distplot` is a deprecated function and will be removed in a future version. Please adapt your code to use either `displot` (a figure-level function with similar flexibility) or `histplot` (an axes-level function for histograms).\n",
            "  warnings.warn(msg, FutureWarning)\n"
          ]
        },
        {
          "output_type": "stream",
          "name": "stdout",
          "text": [
            " \n",
            "Media: 148.42373074729036\n",
            "Varianza: 723.6646051345753\n",
            "Desviación.E: 26.901014946179544\n",
            "Mediana: 148.0\n"
          ]
        },
        {
          "output_type": "display_data",
          "data": {
            "image/png": "[encoded data removed]",
            "text/plain": [
              "<Figure size 432x288 with 1 Axes>"
            ]
          },
          "metadata": {
            "needs_background": "light"
          }
        }
      ]
    },
    {
      "cell_type": "code",
      "source": [
        "interact.filtrar(\"variable>230\",col=\"PUNT_GLOBAL\")"
      ],
      "metadata": {
        "colab": {
          "base_uri": "https://localhost:8080/"
        },
        "id": "v9Q0srzrabiv",
        "outputId": "07e73d1b-b4b4-4dc6-eaca-9448b887d8dd"
      },
      "execution_count": 44,
      "outputs": [
        {
          "output_type": "execute_result",
          "data": {
            "text/plain": [
              "[234,\n",
              " 263,\n",
              " 247,\n",
              " 243,\n",
              " 263,\n",
              " 237,\n",
              " 253,\n",
              " 240,\n",
              " 237,\n",
              " 268,\n",
              " 232,\n",
              " 242,\n",
              " 241,\n",
              " 232,\n",
              " 241,\n",
              " 236]"
            ]
          },
          "metadata": {},
          "execution_count": 44
        }
      ]
    },
    {
      "cell_type": "code",
      "source": [
        "interact.summary_col(\"PERCENTIL_GLOBAL\")"
      ],
      "metadata": {
        "colab": {
          "base_uri": "https://localhost:8080/"
        },
        "id": "r-Qaqptwb5hf",
        "outputId": "3a24ef18-75d8-4b92-dd05-af7c9fa1ebc9"
      },
      "execution_count": 48,
      "outputs": [
        {
          "output_type": "stream",
          "name": "stdout",
          "text": [
            " \n",
            "Media: 49.533257273245866\n",
            "Varianza: 861.5340051916539\n",
            "Desviación.E: 29.351899515902783\n",
            "Mediana: 49.0\n"
          ]
        }
      ]
    },
    {
      "cell_type": "code",
      "source": [
        "interact.filtrar(\"variable>99 and variable<105\",col=\"PUNT_GLOBAL\")"
      ],
      "metadata": {
        "colab": {
          "base_uri": "https://localhost:8080/"
        },
        "id": "tUmAxiVjeQvR",
        "outputId": "73c59972-1858-4f2a-b18e-2e9d1c17ffc2"
      },
      "execution_count": 57,
      "outputs": [
        {
          "output_type": "execute_result",
          "data": {
            "text/plain": [
              "[101,\n",
              " 100,\n",
              " 100,\n",
              " 104,\n",
              " 101,\n",
              " 104,\n",
              " 100,\n",
              " 101,\n",
              " 101,\n",
              " 103,\n",
              " 103,\n",
              " 102,\n",
              " 104,\n",
              " 102,\n",
              " 100,\n",
              " 101,\n",
              " 102,\n",
              " 102,\n",
              " 104,\n",
              " 104,\n",
              " 101,\n",
              " 102,\n",
              " 104,\n",
              " 100,\n",
              " 104,\n",
              " 102,\n",
              " 100,\n",
              " 103,\n",
              " 101,\n",
              " 104,\n",
              " 102,\n",
              " 104,\n",
              " 102,\n",
              " 103,\n",
              " 101,\n",
              " 104,\n",
              " 100,\n",
              " 100,\n",
              " 104,\n",
              " 100,\n",
              " 101,\n",
              " 102,\n",
              " 102,\n",
              " 104,\n",
              " 101,\n",
              " 101,\n",
              " 101,\n",
              " 103,\n",
              " 103,\n",
              " 102,\n",
              " 100,\n",
              " 104,\n",
              " 102,\n",
              " 101,\n",
              " 101,\n",
              " 104,\n",
              " 101,\n",
              " 102,\n",
              " 104,\n",
              " 104,\n",
              " 103,\n",
              " 102,\n",
              " 103,\n",
              " 104,\n",
              " 100,\n",
              " 101,\n",
              " 100,\n",
              " 100,\n",
              " 104,\n",
              " 103,\n",
              " 104,\n",
              " 104,\n",
              " 100,\n",
              " 101,\n",
              " 103,\n",
              " 101,\n",
              " 104,\n",
              " 101,\n",
              " 104,\n",
              " 100,\n",
              " 100,\n",
              " 102,\n",
              " 103,\n",
              " 103,\n",
              " 102,\n",
              " 102,\n",
              " 103,\n",
              " 102,\n",
              " 101,\n",
              " 103,\n",
              " 101,\n",
              " 100,\n",
              " 101,\n",
              " 101,\n",
              " 104,\n",
              " 104,\n",
              " 103,\n",
              " 101,\n",
              " 103,\n",
              " 104,\n",
              " 104,\n",
              " 101,\n",
              " 101,\n",
              " 102,\n",
              " 100,\n",
              " 104,\n",
              " 100,\n",
              " 102,\n",
              " 104,\n",
              " 100,\n",
              " 104,\n",
              " 104,\n",
              " 103,\n",
              " 100,\n",
              " 103,\n",
              " 104,\n",
              " 103,\n",
              " 100,\n",
              " 100,\n",
              " 101,\n",
              " 104,\n",
              " 102,\n",
              " 102,\n",
              " 104,\n",
              " 102,\n",
              " 100,\n",
              " 102,\n",
              " 103,\n",
              " 101,\n",
              " 103,\n",
              " 101,\n",
              " 103,\n",
              " 103,\n",
              " 104,\n",
              " 102]"
            ]
          },
          "metadata": {},
          "execution_count": 57
        }
      ]
    },
    {
      "cell_type": "code",
      "source": [
        ""
      ],
      "metadata": {
        "id": "OynmcLKZecgi"
      },
      "execution_count": null,
      "outputs": []
    }
  ]
}
