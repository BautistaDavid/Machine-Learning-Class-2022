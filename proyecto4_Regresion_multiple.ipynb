{
  "nbformat": 4,
  "nbformat_minor": 0,
  "metadata": {
    "colab": {
      "name": "proyecto4_Regresion_multiple.ipynb",
      "provenance": [],
      "authorship_tag": "ABX9TyNXV92H279fBa/rlTXfJCdr",
      "include_colab_link": true
    },
    "kernelspec": {
      "name": "python3",
      "display_name": "Python 3"
    },
    "language_info": {
      "name": "python"
    }
  },
  "cells": [
    {
      "cell_type": "markdown",
      "metadata": {
        "id": "view-in-github",
        "colab_type": "text"
      },
      "source": [
        "<a href=\"https://colab.research.google.com/github/BautistaDavid/Proyectos_ClaseML/blob/corte_1/proyecto4_Regresion_multiple.ipynb\" target=\"_parent\"><img src=\"https://colab.research.google.com/assets/colab-badge.svg\" alt=\"Open In Colab\"/></a>"
      ]
    },
    {
      "cell_type": "code",
      "source": [
        "!pip install wooldridge"
      ],
      "metadata": {
        "id": "xUUNn0neAvVf"
      },
      "execution_count": null,
      "outputs": []
    },
    {
      "cell_type": "markdown",
      "source": [
        "## **Proyecto 4 - Objeto Regresión**\n",
        "En el proyecto se busca crear un objeto que permita ejecutar una Regresion Lineal Multiple para unas variables de la base de datos ```crime1``` de wooldridge\n",
        "\n",
        " "
      ],
      "metadata": {
        "id": "RShCqBsF5VfW"
      }
    },
    {
      "cell_type": "markdown",
      "source": [
        "#### **Importamos datos**\n",
        "\n",
        "Importamos la base de datos ```crime1``` usando el moudlo  ```wooldridge```, además podemos acceder a información general sobre las variables. Asi mismo se puede plotear un heatmap para revisar posibles problemas de multicolinealidad en los moedlos que se van a correr."
      ],
      "metadata": {
        "id": "YcAxxATlAiCa"
      }
    },
    {
      "cell_type": "code",
      "source": [
        "import wooldridge as wd \n",
        "wd.data(\"crime1\",description=True)\n",
        "datos_crimen = wd.data(\"crime1\")\n",
        "datos_crimen.head(3)"
      ],
      "metadata": {
        "colab": {
          "base_uri": "https://localhost:8080/",
          "height": 629
        },
        "id": "XoIOiXKxHO1-",
        "outputId": "9378c319-90de-41b6-92fe-a4599f260bed"
      },
      "execution_count": 84,
      "outputs": [
        {
          "output_type": "stream",
          "name": "stdout",
          "text": [
            "name of dataset: crime1\n",
            "no of variables: 16\n",
            "no of observations: 2725\n",
            "\n",
            "+----------+---------------------------------+\n",
            "| variable | label                           |\n",
            "+----------+---------------------------------+\n",
            "| narr86   | # times arrested, 1986          |\n",
            "| nfarr86  | # felony arrests, 1986          |\n",
            "| nparr86  | # property crme arr., 1986      |\n",
            "| pcnv     | proportion of prior convictions |\n",
            "| avgsen   | avg sentence length, mos.       |\n",
            "| tottime  | time in prison since 18 (mos.)  |\n",
            "| ptime86  | mos. in prison during 1986      |\n",
            "| qemp86   | # quarters employed, 1986       |\n",
            "| inc86    | legal income, 1986, $100s       |\n",
            "| durat    | recent unemp duration           |\n",
            "| black    | =1 if black                     |\n",
            "| hispan   | =1 if Hispanic                  |\n",
            "| born60   | =1 if born in 1960              |\n",
            "| pcnvsq   | pcnv^2                          |\n",
            "| pt86sq   | ptime86^2                       |\n",
            "| inc86sq  | inc86^2                         |\n",
            "+----------+---------------------------------+\n",
            "\n",
            "J. Grogger (1991), “Certainty vs. Severity of Punishment,” Economic\n",
            "Inquiry 29, 297-309. Professor Grogger kindly provided a subset of the\n",
            "data he used in his article.\n"
          ]
        },
        {
          "output_type": "execute_result",
          "data": {
            "text/html": [
              "\n",
              "  <div id=\"df-26693ee3-b2b8-43e8-b845-f68dae34f39c\">\n",
              "    <div class=\"colab-df-container\">\n",
              "      <div>\n",
              "<style scoped>\n",
              "    .dataframe tbody tr th:only-of-type {\n",
              "        vertical-align: middle;\n",
              "    }\n",
              "\n",
              "    .dataframe tbody tr th {\n",
              "        vertical-align: top;\n",
              "    }\n",
              "\n",
              "    .dataframe thead th {\n",
              "        text-align: right;\n",
              "    }\n",
              "</style>\n",
              "<table border=\"1\" class=\"dataframe\">\n",
              "  <thead>\n",
              "    <tr style=\"text-align: right;\">\n",
              "      <th></th>\n",
              "      <th>narr86</th>\n",
              "      <th>nfarr86</th>\n",
              "      <th>nparr86</th>\n",
              "      <th>pcnv</th>\n",
              "      <th>avgsen</th>\n",
              "      <th>tottime</th>\n",
              "      <th>ptime86</th>\n",
              "      <th>qemp86</th>\n",
              "      <th>inc86</th>\n",
              "      <th>durat</th>\n",
              "      <th>black</th>\n",
              "      <th>hispan</th>\n",
              "      <th>born60</th>\n",
              "      <th>pcnvsq</th>\n",
              "      <th>pt86sq</th>\n",
              "      <th>inc86sq</th>\n",
              "    </tr>\n",
              "  </thead>\n",
              "  <tbody>\n",
              "    <tr>\n",
              "      <th>0</th>\n",
              "      <td>0</td>\n",
              "      <td>0</td>\n",
              "      <td>0</td>\n",
              "      <td>0.38</td>\n",
              "      <td>17.600000</td>\n",
              "      <td>35.200001</td>\n",
              "      <td>12</td>\n",
              "      <td>0.0</td>\n",
              "      <td>0.0</td>\n",
              "      <td>0.0</td>\n",
              "      <td>0</td>\n",
              "      <td>0</td>\n",
              "      <td>1</td>\n",
              "      <td>0.1444</td>\n",
              "      <td>144</td>\n",
              "      <td>0.00</td>\n",
              "    </tr>\n",
              "    <tr>\n",
              "      <th>1</th>\n",
              "      <td>2</td>\n",
              "      <td>2</td>\n",
              "      <td>0</td>\n",
              "      <td>0.44</td>\n",
              "      <td>0.000000</td>\n",
              "      <td>0.000000</td>\n",
              "      <td>0</td>\n",
              "      <td>1.0</td>\n",
              "      <td>0.8</td>\n",
              "      <td>0.0</td>\n",
              "      <td>0</td>\n",
              "      <td>1</td>\n",
              "      <td>0</td>\n",
              "      <td>0.1936</td>\n",
              "      <td>0</td>\n",
              "      <td>0.64</td>\n",
              "    </tr>\n",
              "    <tr>\n",
              "      <th>2</th>\n",
              "      <td>1</td>\n",
              "      <td>1</td>\n",
              "      <td>0</td>\n",
              "      <td>0.33</td>\n",
              "      <td>22.799999</td>\n",
              "      <td>22.799999</td>\n",
              "      <td>0</td>\n",
              "      <td>0.0</td>\n",
              "      <td>0.0</td>\n",
              "      <td>11.0</td>\n",
              "      <td>1</td>\n",
              "      <td>0</td>\n",
              "      <td>1</td>\n",
              "      <td>0.1089</td>\n",
              "      <td>0</td>\n",
              "      <td>0.00</td>\n",
              "    </tr>\n",
              "  </tbody>\n",
              "</table>\n",
              "</div>\n",
              "      <button class=\"colab-df-convert\" onclick=\"convertToInteractive('df-26693ee3-b2b8-43e8-b845-f68dae34f39c')\"\n",
              "              title=\"Convert this dataframe to an interactive table.\"\n",
              "              style=\"display:none;\">\n",
              "        \n",
              "  <svg xmlns=\"http://www.w3.org/2000/svg\" height=\"24px\"viewBox=\"0 0 24 24\"\n",
              "       width=\"24px\">\n",
              "    <path d=\"M0 0h24v24H0V0z\" fill=\"none\"/>\n",
              "    <path d=\"M18.56 5.44l.94 2.06.94-2.06 2.06-.94-2.06-.94-.94-2.06-.94 2.06-2.06.94zm-11 1L8.5 8.5l.94-2.06 2.06-.94-2.06-.94L8.5 2.5l-.94 2.06-2.06.94zm10 10l.94 2.06.94-2.06 2.06-.94-2.06-.94-.94-2.06-.94 2.06-2.06.94z\"/><path d=\"M17.41 7.96l-1.37-1.37c-.4-.4-.92-.59-1.43-.59-.52 0-1.04.2-1.43.59L10.3 9.45l-7.72 7.72c-.78.78-.78 2.05 0 2.83L4 21.41c.39.39.9.59 1.41.59.51 0 1.02-.2 1.41-.59l7.78-7.78 2.81-2.81c.8-.78.8-2.07 0-2.86zM5.41 20L4 18.59l7.72-7.72 1.47 1.35L5.41 20z\"/>\n",
              "  </svg>\n",
              "      </button>\n",
              "      \n",
              "  <style>\n",
              "    .colab-df-container {\n",
              "      display:flex;\n",
              "      flex-wrap:wrap;\n",
              "      gap: 12px;\n",
              "    }\n",
              "\n",
              "    .colab-df-convert {\n",
              "      background-color: #E8F0FE;\n",
              "      border: none;\n",
              "      border-radius: 50%;\n",
              "      cursor: pointer;\n",
              "      display: none;\n",
              "      fill: #1967D2;\n",
              "      height: 32px;\n",
              "      padding: 0 0 0 0;\n",
              "      width: 32px;\n",
              "    }\n",
              "\n",
              "    .colab-df-convert:hover {\n",
              "      background-color: #E2EBFA;\n",
              "      box-shadow: 0px 1px 2px rgba(60, 64, 67, 0.3), 0px 1px 3px 1px rgba(60, 64, 67, 0.15);\n",
              "      fill: #174EA6;\n",
              "    }\n",
              "\n",
              "    [theme=dark] .colab-df-convert {\n",
              "      background-color: #3B4455;\n",
              "      fill: #D2E3FC;\n",
              "    }\n",
              "\n",
              "    [theme=dark] .colab-df-convert:hover {\n",
              "      background-color: #434B5C;\n",
              "      box-shadow: 0px 1px 3px 1px rgba(0, 0, 0, 0.15);\n",
              "      filter: drop-shadow(0px 1px 2px rgba(0, 0, 0, 0.3));\n",
              "      fill: #FFFFFF;\n",
              "    }\n",
              "  </style>\n",
              "\n",
              "      <script>\n",
              "        const buttonEl =\n",
              "          document.querySelector('#df-26693ee3-b2b8-43e8-b845-f68dae34f39c button.colab-df-convert');\n",
              "        buttonEl.style.display =\n",
              "          google.colab.kernel.accessAllowed ? 'block' : 'none';\n",
              "\n",
              "        async function convertToInteractive(key) {\n",
              "          const element = document.querySelector('#df-26693ee3-b2b8-43e8-b845-f68dae34f39c');\n",
              "          const dataTable =\n",
              "            await google.colab.kernel.invokeFunction('convertToInteractive',\n",
              "                                                     [key], {});\n",
              "          if (!dataTable) return;\n",
              "\n",
              "          const docLinkHtml = 'Like what you see? Visit the ' +\n",
              "            '<a target=\"_blank\" href=https://colab.research.google.com/notebooks/data_table.ipynb>data table notebook</a>'\n",
              "            + ' to learn more about interactive tables.';\n",
              "          element.innerHTML = '';\n",
              "          dataTable['output_type'] = 'display_data';\n",
              "          await google.colab.output.renderOutput(dataTable, element);\n",
              "          const docLink = document.createElement('div');\n",
              "          docLink.innerHTML = docLinkHtml;\n",
              "          element.appendChild(docLink);\n",
              "        }\n",
              "      </script>\n",
              "    </div>\n",
              "  </div>\n",
              "  "
            ],
            "text/plain": [
              "   narr86  nfarr86  nparr86  pcnv     avgsen    tottime  ptime86  qemp86  \\\n",
              "0       0        0        0  0.38  17.600000  35.200001       12     0.0   \n",
              "1       2        2        0  0.44   0.000000   0.000000        0     1.0   \n",
              "2       1        1        0  0.33  22.799999  22.799999        0     0.0   \n",
              "\n",
              "   inc86  durat  black  hispan  born60  pcnvsq  pt86sq  inc86sq  \n",
              "0    0.0    0.0      0       0       1  0.1444     144     0.00  \n",
              "1    0.8    0.0      0       1       0  0.1936       0     0.64  \n",
              "2    0.0   11.0      1       0       1  0.1089       0     0.00  "
            ]
          },
          "metadata": {},
          "execution_count": 84
        }
      ]
    },
    {
      "cell_type": "code",
      "source": [
        "import seaborn as sns \n",
        "sns.heatmap(datos_crimen[[\"pcnv\",\"avgsen\",\"tottime\",\"inc86\",\"pcnvsq\",\"inc86sq\"]].corr())  "
      ],
      "metadata": {
        "colab": {
          "base_uri": "https://localhost:8080/",
          "height": 286
        },
        "id": "gRFJkZokHrpm",
        "outputId": "95262cda-f1f2-49b8-8d10-86b103ee821c"
      },
      "execution_count": 92,
      "outputs": [
        {
          "output_type": "execute_result",
          "data": {
            "text/plain": [
              "<matplotlib.axes._subplots.AxesSubplot at 0x7f298a3370d0>"
            ]
          },
          "metadata": {},
          "execution_count": 92
        },
        {
          "output_type": "display_data",
          "data": {
            "image/png": "[encoded data removed]",
            "text/plain": [
              "<Figure size 432x288 with 2 Axes>"
            ]
          },
          "metadata": {
            "needs_background": "light"
          }
        }
      ]
    },
    {
      "cell_type": "markdown",
      "source": [
        "#### **Construcción Objeto**\n",
        "\n",
        "El objeto tiene metodos ocultos para formar la tablas de resultdos y la información de la Anova. Asi mismo esta el metodo ```fit``` con el que se pretendia de cierta manera inicializar los calculos de la regresión. (Al final del Notebook se deja el codigo de una nueva versión en la que se esta trabajando para poder establecer al metodo ```fit``` como un \"inicializador\" de la regresión). Por ultimo el metodo ```summary()``` permite acceder a un resumen de la información obtenida en la regresión.\n",
        "\n",
        "Hay ciertas opciones que se craron para la clase, se puede establecer si se desea que la regresión trabaje con una constante y asi mismo se puede fijar un nivel de significancia para el calculo de los intervalos de confianza.\n",
        "\n"
      ],
      "metadata": {
        "id": "HhT0pMJVA7vA"
      }
    },
    {
      "cell_type": "code",
      "execution_count": 94,
      "metadata": {
        "id": "-9y78ndI_Rfa"
      },
      "outputs": [],
      "source": [
        "import numpy as np \n",
        "import pandas as pd \n",
        "import scipy.stats as sst\n",
        "from scipy import stats\n",
        "\n",
        "class Lineal_Reg(object):\n",
        "  def __init__(self,Y,X,alpha=0.05,intercepto = True):\n",
        "    self.__intercepto = intercepto\n",
        "    self.Y = Y.to_numpy().reshape(len(Y),1)\n",
        "    if self.__intercepto == True: \n",
        "      self.X = np.c_[np.ones(self.Y.shape[0]),X.to_numpy()] if len(X.shape) !=1 else np.c_[np.ones(len(X)),X.to_numpy().reshape([len(X),1])]     \n",
        "    elif self.__intercepto == False: \n",
        "      self.X = X.to_numpy() if len(X.shape) !=1 else X.to_numpy().reshape([len(X),1])\n",
        "\n",
        "    self.__alpha = alpha\n",
        "    self.__names = X.columns if len(X.shape)!=1 else [X.name]\n",
        "    self.n = self.X.shape[0]\n",
        "    self.k = self.X.shape[1] -1 if len(X.shape) !=1 else 1\n",
        "    self.gl = self.n - self.k -1\n",
        "\n",
        "\n",
        "  def fit(self):\n",
        "    self.betas = (np.linalg.inv(self.X.T@self.X)@self.X.T@self.Y)\n",
        " \n",
        "  \n",
        "  def __anova(self):\n",
        "    self.fit()\n",
        "    self.residuos = self.Y - (self.X @ self.betas)\n",
        "    self.SEC = np.sum(np.square(self.X @ self.betas -np.mean(self.Y)))\n",
        "    self.SRC = np.sum(np.square(self.residuos))\n",
        "    self.STC = np.sum(np.square(self.Y-np.mean(self.Y)))\n",
        "    self.R_2 = 1-self.SRC/self.STC\n",
        "    self.estadistico_F = (self.R_2 / self.k) / ((1-self.R_2)/(self.n - self.k -1))\n",
        "    self.MS_model = self.SEC / self.k    #desviaciones media \n",
        "    self.MS_residual = self.SRC / self.gl \n",
        "    self.MS_total = self.STC / (self.n - 1)\n",
        "\n",
        "  def __tabla_resultados(self):\n",
        "    self.fit()\n",
        "    self.m_covarianzas = (self.SRC/self.gl) * (np.linalg.inv(self.X.T @ self.X))\n",
        "    self.varianzas = np.diag(self.m_covarianzas)\n",
        "    self.errores_estandar = np.sqrt(self.varianzas).ravel().tolist() # ya quedo en lista\n",
        "    self.t_values = [betas/errores for (betas,errores) in zip(self.betas.ravel().tolist(),self.errores_estandar)]\n",
        "    self.p_values = [stats.t.sf(np.abs(t_val), self.n-1)*2 for t_val in self.t_values]  #t,Gl\n",
        "    #intervalos \n",
        "    self.t_level = sst.t.ppf(1 - self.__alpha/2, df=self.n - self.k - 1 )  # df = n-k-1\n",
        "    self.intervalos = [sorted([beta - (errcoef * self.t_level),beta + (errcoef * self.t_level)]) for (beta,errcoef) in zip(self.betas.ravel().tolist(),self.errores_estandar)]\n",
        "  \n",
        "  @property  # Decorador para transfromar metodo en atributo\n",
        "  def summary(self):\n",
        "    self.__anova()\n",
        "    self.__tabla_resultados()\n",
        "    panel = pd.DataFrame(index=[\"Modelo\",\"Residual\",\"Total\"])\n",
        "    panel[\"SS\"] = [self.SEC,self.SRC,self.STC]\n",
        "    panel[\"df\"] = [self.k,self.gl,self.n-1]\n",
        "    panel[\"MS\"] = [self.MS_model,self.MS_residual,self.MS_total]\n",
        "    panel[\"  \"] = [\"   \",\"   \",\"   \"]\n",
        "    panel[\"    \"] = [f\"No. Observaciones = {self.n}\",f\"F{self.k,self.gl} = {round(self.estadistico_F,2)}\",f\"R-cuadrado = {round(self.R_2,4)}\"]   # Esto toca organizarlo mejor  \n",
        "   \n",
        "    resultados=pd.DataFrame(index= [\"_Cons\"]+ [i for i in self.__names]) if self.__intercepto == True else pd.DataFrame(index= [i for i in self.__names])\n",
        "    resultados[\"Coeficientes\"] = [round(i,4) for i in self.betas.ravel().tolist()]\n",
        "    resultados[\"E.Estandar\"] = self.errores_estandar\n",
        "    resultados[\"t\"] = [round(i,2) for i in self.t_values]\n",
        "    resultados[\"P\"] = [round(i,4) for i in self.p_values] \n",
        "    resultados[\"Intervalos de confianza\"] = [(round(i[0],6),round(i[1],6)) for i in self.intervalos]\n",
        "    print(panel)\n",
        "    print()\n",
        "    print(resultados)"
      ]
    },
    {
      "cell_type": "markdown",
      "source": [
        "#### **Probamos las clase...**"
      ],
      "metadata": {
        "id": "narGjjsQNkDx"
      }
    },
    {
      "cell_type": "code",
      "source": [
        "Y = datos_crimen[\"narr86\"]\n",
        "X = datos_crimen[[\"pcnv\",\"avgsen\",\"tottime\",\"inc86\"]]\n",
        "my_reg = Lineal_Reg(Y,X) \n",
        "my_reg.summary"
      ],
      "metadata": {
        "id": "s6obUQxJYRYX",
        "outputId": "1e85b61b-76df-4ec2-fb6f-83847e57a99f",
        "colab": {
          "base_uri": "https://localhost:8080/"
        }
      },
      "execution_count": 95,
      "outputs": [
        {
          "output_type": "stream",
          "name": "stdout",
          "text": [
            "                   SS    df         MS                               \n",
            "Modelo      84.423332     4  21.105833       No. Observaciones = 2725\n",
            "Residual  1925.923824  2720   0.708060             F(4, 2720) = 29.81\n",
            "Total     2010.347156  2724   0.738013             R-cuadrado = 0.042\n",
            "\n",
            "         Coeficientes  E.Estandar      t       P Intervalos de confianza\n",
            "_Cons          0.5939    0.025858  22.97  0.0000    (0.543172, 0.644578)\n",
            "pcnv          -0.1624    0.040816  -3.98  0.0001  (-0.242471, -0.082403)\n",
            "avgsen        -0.0062    0.012381  -0.50  0.6172   (-0.030465, 0.018089)\n",
            "tottime        0.0077    0.009432   0.82  0.4137   (-0.010784, 0.026205)\n",
            "inc86         -0.0024    0.000243 -10.02  0.0000  (-0.002913, -0.001959)\n"
          ]
        }
      ]
    },
    {
      "cell_type": "markdown",
      "source": [
        "Modelo especificado:\n",
        "\n",
        "$$inc86 = B_0+B_1pcnv+B_2avgsen+B_3tottime+B_4inc86$$\n",
        "\n",
        "Se puede comentar el hecho de que dentro de la regresión las variables ```pcnv``` y ```inc86``` son las unicas estadisticamente significativas bajo el modelo espicificado. De manera que el modelo estima que un aumento de una unidad en la proprsión de condenas anteriores estaria asociado con una disminución de 0.16 numero de arrestos, sin tener en cuenta la magnitud en este caso puede resultar interesante como tal el signo de esta misma. Por otro lado un aumento de 100 dolares en los ingresos legales de un individuo durante el año 86 estaria asociado a una disminucion de 0.0024 condenas, Otra vez, es mas interesante analizar el signo del estimador que la magnitud. \n",
        "\n",
        "Por otro lado tambien se puede comentar que las variables en conjunto no logran explicar apenas el 4.2 % de la variabilidad de las veces que fue arrestado un indiduo en el 86. Aun asi ouede que el modelo permite realizar predicciones, las cuales tendrian que ser evaluadas por metricas distintas."
      ],
      "metadata": {
        "id": "hIfovehzN2O5"
      }
    },
    {
      "cell_type": "code",
      "source": [
        "Y = datos_crimen[\"narr86\"]\n",
        "X = datos_crimen[[\"pcnv\",\"avgsen\",\"tottime\",\"inc86\",\"pcnvsq\",\"inc86sq\"]]\n",
        "my_reg = Lineal_Reg(Y,X) \n",
        "my_reg.summary"
      ],
      "metadata": {
        "id": "vHrIeMM8YRde",
        "colab": {
          "base_uri": "https://localhost:8080/"
        },
        "outputId": "688235c0-df30-48fb-b628-c760da7abfa2"
      },
      "execution_count": 96,
      "outputs": [
        {
          "output_type": "stream",
          "name": "stdout",
          "text": [
            "                   SS    df         MS                               \n",
            "Modelo     117.455739     6  19.575957       No. Observaciones = 2725\n",
            "Residual  1892.891417  2718   0.696428             F(6, 2718) = 28.11\n",
            "Total     2010.347156  2724   0.738013            R-cuadrado = 0.0584\n",
            "\n",
            "         Coeficientes  E.Estandar      t       P Intervalos de confianza\n",
            "_Cons          0.5775    0.029933  19.29  0.0000    (0.518829, 0.636218)\n",
            "pcnv           0.6226    0.154837   4.02  0.0001    (0.319024, 0.926245)\n",
            "avgsen        -0.0069    0.012280  -0.56  0.5728   (-0.031005, 0.017154)\n",
            "tottime        0.0045    0.009366   0.48  0.6318   (-0.013877, 0.022854)\n",
            "inc86         -0.0041    0.000530  -7.70  0.0000  (-0.005119, -0.003042)\n",
            "pcnvsq        -0.8266    0.156661  -5.28  0.0000  (-1.133775, -0.519402)\n",
            "inc86sq        0.0000    0.000002   4.02  0.0001        (4e-06, 1.3e-05)\n"
          ]
        }
      ]
    },
    {
      "cell_type": "markdown",
      "source": [
        "Planteando ahora el modelo con variables adicionales de forma cuadrática podemos ver que las mismas variables que en el primer modelo no eran significativas se mantienen así, por otro lado los signos de las variables con una forma funcional cuadrática nos indican cierto tipo de relación no lineal con respecto a la dependiente. "
      ],
      "metadata": {
        "id": "WisT6mxnWvrm"
      }
    },
    {
      "cell_type": "markdown",
      "source": [
        "#### Pruevba extra de modificaicón a la clase "
      ],
      "metadata": {
        "id": "SvSADSMdXyJu"
      }
    },
    {
      "cell_type": "code",
      "source": [
        "import numpy as np \n",
        "import pandas as pd \n",
        "import scipy.stats as sst\n",
        "from scipy import stats\n",
        "\n",
        "class Lineal_Reg(object):\n",
        "  def __init__(self,Y,X,alpha=0.05,intercepto = True):\n",
        "    self.intercepto = intercepto\n",
        "    self.Y = Y.to_numpy().reshape(len(Y),1)\n",
        "    if self.intercepto == True: \n",
        "      self.X = np.c_[np.ones(self.Y.shape[0]),X.to_numpy()] if len(X.shape) !=1 else np.c_[np.ones(len(X)),X.to_numpy().reshape([len(X),1])]     \n",
        "    elif self.intercepto == False: \n",
        "      self.X = X.to_numpy() if len(X.shape) !=1 else X.to_numpy().reshape([len(X),1])\n",
        "\n",
        "    self.alpha = alpha\n",
        "    self.names = X.columns if len(X.shape)!=1 else [X.name]\n",
        "    self.n = self.X.shape[0]\n",
        "    self.k = self.X.shape[1] -1 if len(X.shape) !=1 else 1\n",
        "    self.gl = self.n - self.k -1\n",
        "  \n",
        "  class fit():\n",
        "    def __init__(self):\n",
        "      Lineal_Reg.__init__(self,Y,X,alpha=0.05,intercepto = True)\n",
        "      self.betas = (np.linalg.inv(self.X.T@self.X)@self.X.T@self.Y)\n",
        "  \n",
        "    def __anova(self):\n",
        "      self.residuos = self.Y - (self.X @ self.betas)\n",
        "      self.SEC = np.sum(np.square(self.X @ self.betas -np.mean(self.Y)))\n",
        "      self.SRC = np.sum(np.square(self.residuos))\n",
        "      self.STC = np.sum(np.square(self.Y-np.mean(self.Y)))\n",
        "      self.R_2 = 1-self.SRC/self.STC\n",
        "      self.estadistico_F = (self.R_2 / self.k) / ((1-self.R_2)/(self.n - self.k -1))\n",
        "      self.MS_model = self.SEC / self.k    #desviaciones media \n",
        "      self.MS_residual = self.SRC / self.gl \n",
        "      self.MS_total = self.STC / (self.n - 1)\n",
        "\n",
        "    def __tabla_resultados(self):\n",
        "      self.m_covarianzas = (self.SRC/self.gl) * (np.linalg.inv(self.X.T @ self.X))\n",
        "      self.varianzas = np.diag(self.m_covarianzas)\n",
        "      self.errores_estandar = np.sqrt(self.varianzas).ravel().tolist() # ya quedo en lista\n",
        "      self.t_values = [betas/errores for (betas,errores) in zip(self.betas.ravel().tolist(),self.errores_estandar)]\n",
        "      self.p_values = [stats.t.sf(np.abs(t_val), self.n-1)*2 for t_val in self.t_values]  #t,Gl\n",
        "    #intervalos \n",
        "      self.t_level = sst.t.ppf(1 - self.alpha/2, df=self.n - self.k - 1 )  # df = n-k-1\n",
        "      self.intervalos = [sorted([beta - (errcoef * self.t_level),beta + (errcoef * self.t_level)]) for (beta,errcoef) in zip(self.betas.ravel().tolist(),self.errores_estandar)]\n",
        "  \n",
        "  # daad @property \n",
        "    def summary(self):\n",
        "      self.__anova()\n",
        "      self.__tabla_resultados()\n",
        "      panel = pd.DataFrame(index=[\"Modelo\",\"Residual\",\"Total\"])\n",
        "      panel[\"SS\"] = [self.SEC,self.SRC,self.STC]\n",
        "      panel[\"df\"] = [self.k,self.gl,self.n-1]\n",
        "      panel[\"MS\"] = [self.MS_model,self.MS_residual,self.MS_total]\n",
        "      panel[\"  \"] = [\"   \",\"   \",\"   \"]\n",
        "      panel[\"    \"] = [f\"No. Observaciones = {self.n}\",f\"F{self.k,self.gl} = {round(self.estadistico_F,2)}\",f\"R-cuadrado = {round(self.R_2,4)}\"]   # Esto toca organizarlo mejor  \n",
        "   \n",
        "      resultados=pd.DataFrame(index= [\"_Cons\"]+ [i for i in self.names]) if self.intercepto == True else pd.DataFrame(index= [i for i in self.__names])\n",
        "      resultados[\"Coeficientes\"] = [round(i,4) for i in self.betas.ravel().tolist()]\n",
        "      resultados[\"E.Estandar\"] = self.errores_estandar\n",
        "      resultados[\"t\"] = [round(i,2) for i in self.t_values]\n",
        "      resultados[\"P\"] = [round(i,4) for i in self.p_values] \n",
        "      resultados[\"Intervalos de confianza\"] = [(round(i[0],6),round(i[1],6)) for i in self.intervalos]\n",
        "      print(panel)\n",
        "      print()\n",
        "      print(resultados)"
      ],
      "metadata": {
        "id": "S-RHFClx-J6w"
      },
      "execution_count": 97,
      "outputs": []
    },
    {
      "cell_type": "code",
      "source": [
        "import wooldridge as wd \n",
        "\n",
        "datos_crimen = wd.data(\"crime1\")\n",
        "datos_crimen.head(3)\n",
        "Y = datos_crimen[\"narr86\"]\n",
        "X = datos_crimen[[\"pcnv\",\"avgsen\",\"tottime\",\"inc86\"]]\n",
        "modelo = Lineal_Reg(Y,X,alpha=0.05)\n",
        "reg =modelo.fit()\n",
        "reg.summary()    \n"
      ],
      "metadata": {
        "colab": {
          "base_uri": "https://localhost:8080/"
        },
        "id": "T7CYiI8jBALX",
        "outputId": "43405f5c-8a5d-49cc-c3a6-74ce30aa1ee3"
      },
      "execution_count": 98,
      "outputs": [
        {
          "output_type": "stream",
          "name": "stdout",
          "text": [
            "                   SS    df         MS                               \n",
            "Modelo      84.423332     4  21.105833       No. Observaciones = 2725\n",
            "Residual  1925.923824  2720   0.708060             F(4, 2720) = 29.81\n",
            "Total     2010.347156  2724   0.738013             R-cuadrado = 0.042\n",
            "\n",
            "         Coeficientes  E.Estandar      t       P Intervalos de confianza\n",
            "_Cons          0.5939    0.025858  22.97  0.0000    (0.543172, 0.644578)\n",
            "pcnv          -0.1624    0.040816  -3.98  0.0001  (-0.242471, -0.082403)\n",
            "avgsen        -0.0062    0.012381  -0.50  0.6172   (-0.030465, 0.018089)\n",
            "tottime        0.0077    0.009432   0.82  0.4137   (-0.010784, 0.026205)\n",
            "inc86         -0.0024    0.000243 -10.02  0.0000  (-0.002913, -0.001959)\n"
          ]
        }
      ]
    }
  ]
}