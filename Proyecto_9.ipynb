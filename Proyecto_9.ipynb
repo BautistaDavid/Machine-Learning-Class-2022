{
  "nbformat": 4,
  "nbformat_minor": 0,
  "metadata": {
    "colab": {
      "name": "Proyecto_9.ipynb",
      "provenance": [],
      "authorship_tag": "ABX9TyPyl8RmvsfGwSr9dmuypJ+Y",
      "include_colab_link": true
    },
    "kernelspec": {
      "name": "python3",
      "display_name": "Python 3"
    },
    "language_info": {
      "name": "python"
    }
  },
  "cells": [
    {
      "cell_type": "markdown",
      "metadata": {
        "id": "view-in-github",
        "colab_type": "text"
      },
      "source": [
        "<a href=\"https://colab.research.google.com/github/BautistaDavid/Machine-Learning-Class-2022/blob/main/Proyecto_9.ipynb\" target=\"_parent\"><img src=\"https://colab.research.google.com/assets/colab-badge.svg\" alt=\"Open In Colab\"/></a>"
      ]
    },
    {
      "cell_type": "code",
      "execution_count": 89,
      "metadata": {
        "id": "54PrI6NHhcFH"
      },
      "outputs": [],
      "source": [
        "import pandas as pd \n",
        "\n",
        "from sklearn.model_selection import train_test_split\n",
        "from sklearn.preprocessing import StandardScaler\n",
        "from sklearn.linear_model import LinearRegression\n",
        "from sklearn.model_selection import GridSearchCV\n",
        "from sklearn.metrics import mean_squared_error, r2_score, mean_absolute_error\n",
        "from sklearn.ensemble import RandomForestRegressor\n",
        "import warnings\n",
        "import seaborn as sns \n",
        "from sklearn.tree import DecisionTreeRegressor\n",
        "import xgboost as xgb"
      ]
    },
    {
      "cell_type": "code",
      "source": [
        "df = pd.read_csv('https://raw.githubusercontent.com/BautistaDavid/Machine-Learning-Class-2022/main/data/data_proyecto9.csv')\n",
        "df.head()"
      ],
      "metadata": {
        "colab": {
          "base_uri": "https://localhost:8080/",
          "height": 288
        },
        "id": "y68JhkNtthDO",
        "outputId": "29ac3809-d837-469d-9b94-d721eef1cc19"
      },
      "execution_count": null,
      "outputs": [
        {
          "output_type": "execute_result",
          "data": {
            "text/plain": [
              "   estu_genero  fami_educacionpadre  fami_educacionmadre  \\\n",
              "0            1                 11.0                 13.0   \n",
              "1            1                 15.0                 15.0   \n",
              "2            1                  3.0                  3.0   \n",
              "3            0                 15.0                 14.0   \n",
              "4            1                  3.0                 13.0   \n",
              "\n",
              "   fami_estratovivienda  fami_tieneinternet  fami_tienecomputador  \\\n",
              "0                     3                   1                     1   \n",
              "1                     4                   1                     1   \n",
              "2                     2                   1                     1   \n",
              "3                     3                   1                     1   \n",
              "4                     3                   1                     1   \n",
              "\n",
              "   fami_tieneautomovil  edad  pago_promedio  estu_economia  distancia  \\\n",
              "0                    0    24         3250.0              1          1   \n",
              "1                    1    19         7000.0              1          0   \n",
              "2                    0    29         1750.0              0          0   \n",
              "3                    0    22         1750.0              1          1   \n",
              "4                    0    23         4750.0              1          0   \n",
              "\n",
              "   presencial  punt_global  Region Amazonica  Region Andina  Region Caribe  \\\n",
              "0           0          201                 0              1              0   \n",
              "1           1          222                 0              1              0   \n",
              "2           1           88                 0              0              1   \n",
              "3           0          159                 0              1              0   \n",
              "4           1          156                 0              1              0   \n",
              "\n",
              "   Region Orinoquia  Region Pacifica  \n",
              "0                 0                0  \n",
              "1                 0                0  \n",
              "2                 0                0  \n",
              "3                 0                0  \n",
              "4                 0                0  "
            ],
            "text/html": [
              "\n",
              "  <div id=\"df-61fb750c-ef2e-4c11-8de2-b52db965cdf3\">\n",
              "    <div class=\"colab-df-container\">\n",
              "      <div>\n",
              "<style scoped>\n",
              "    .dataframe tbody tr th:only-of-type {\n",
              "        vertical-align: middle;\n",
              "    }\n",
              "\n",
              "    .dataframe tbody tr th {\n",
              "        vertical-align: top;\n",
              "    }\n",
              "\n",
              "    .dataframe thead th {\n",
              "        text-align: right;\n",
              "    }\n",
              "</style>\n",
              "<table border=\"1\" class=\"dataframe\">\n",
              "  <thead>\n",
              "    <tr style=\"text-align: right;\">\n",
              "      <th></th>\n",
              "      <th>estu_genero</th>\n",
              "      <th>fami_educacionpadre</th>\n",
              "      <th>fami_educacionmadre</th>\n",
              "      <th>fami_estratovivienda</th>\n",
              "      <th>fami_tieneinternet</th>\n",
              "      <th>fami_tienecomputador</th>\n",
              "      <th>fami_tieneautomovil</th>\n",
              "      <th>edad</th>\n",
              "      <th>pago_promedio</th>\n",
              "      <th>estu_economia</th>\n",
              "      <th>distancia</th>\n",
              "      <th>presencial</th>\n",
              "      <th>punt_global</th>\n",
              "      <th>Region Amazonica</th>\n",
              "      <th>Region Andina</th>\n",
              "      <th>Region Caribe</th>\n",
              "      <th>Region Orinoquia</th>\n",
              "      <th>Region Pacifica</th>\n",
              "    </tr>\n",
              "  </thead>\n",
              "  <tbody>\n",
              "    <tr>\n",
              "      <th>0</th>\n",
              "      <td>1</td>\n",
              "      <td>11.0</td>\n",
              "      <td>13.0</td>\n",
              "      <td>3</td>\n",
              "      <td>1</td>\n",
              "      <td>1</td>\n",
              "      <td>0</td>\n",
              "      <td>24</td>\n",
              "      <td>3250.0</td>\n",
              "      <td>1</td>\n",
              "      <td>1</td>\n",
              "      <td>0</td>\n",
              "      <td>201</td>\n",
              "      <td>0</td>\n",
              "      <td>1</td>\n",
              "      <td>0</td>\n",
              "      <td>0</td>\n",
              "      <td>0</td>\n",
              "    </tr>\n",
              "    <tr>\n",
              "      <th>1</th>\n",
              "      <td>1</td>\n",
              "      <td>15.0</td>\n",
              "      <td>15.0</td>\n",
              "      <td>4</td>\n",
              "      <td>1</td>\n",
              "      <td>1</td>\n",
              "      <td>1</td>\n",
              "      <td>19</td>\n",
              "      <td>7000.0</td>\n",
              "      <td>1</td>\n",
              "      <td>0</td>\n",
              "      <td>1</td>\n",
              "      <td>222</td>\n",
              "      <td>0</td>\n",
              "      <td>1</td>\n",
              "      <td>0</td>\n",
              "      <td>0</td>\n",
              "      <td>0</td>\n",
              "    </tr>\n",
              "    <tr>\n",
              "      <th>2</th>\n",
              "      <td>1</td>\n",
              "      <td>3.0</td>\n",
              "      <td>3.0</td>\n",
              "      <td>2</td>\n",
              "      <td>1</td>\n",
              "      <td>1</td>\n",
              "      <td>0</td>\n",
              "      <td>29</td>\n",
              "      <td>1750.0</td>\n",
              "      <td>0</td>\n",
              "      <td>0</td>\n",
              "      <td>1</td>\n",
              "      <td>88</td>\n",
              "      <td>0</td>\n",
              "      <td>0</td>\n",
              "      <td>1</td>\n",
              "      <td>0</td>\n",
              "      <td>0</td>\n",
              "    </tr>\n",
              "    <tr>\n",
              "      <th>3</th>\n",
              "      <td>0</td>\n",
              "      <td>15.0</td>\n",
              "      <td>14.0</td>\n",
              "      <td>3</td>\n",
              "      <td>1</td>\n",
              "      <td>1</td>\n",
              "      <td>0</td>\n",
              "      <td>22</td>\n",
              "      <td>1750.0</td>\n",
              "      <td>1</td>\n",
              "      <td>1</td>\n",
              "      <td>0</td>\n",
              "      <td>159</td>\n",
              "      <td>0</td>\n",
              "      <td>1</td>\n",
              "      <td>0</td>\n",
              "      <td>0</td>\n",
              "      <td>0</td>\n",
              "    </tr>\n",
              "    <tr>\n",
              "      <th>4</th>\n",
              "      <td>1</td>\n",
              "      <td>3.0</td>\n",
              "      <td>13.0</td>\n",
              "      <td>3</td>\n",
              "      <td>1</td>\n",
              "      <td>1</td>\n",
              "      <td>0</td>\n",
              "      <td>23</td>\n",
              "      <td>4750.0</td>\n",
              "      <td>1</td>\n",
              "      <td>0</td>\n",
              "      <td>1</td>\n",
              "      <td>156</td>\n",
              "      <td>0</td>\n",
              "      <td>1</td>\n",
              "      <td>0</td>\n",
              "      <td>0</td>\n",
              "      <td>0</td>\n",
              "    </tr>\n",
              "  </tbody>\n",
              "</table>\n",
              "</div>\n",
              "      <button class=\"colab-df-convert\" onclick=\"convertToInteractive('df-61fb750c-ef2e-4c11-8de2-b52db965cdf3')\"\n",
              "              title=\"Convert this dataframe to an interactive table.\"\n",
              "              style=\"display:none;\">\n",
              "        \n",
              "  <svg xmlns=\"http://www.w3.org/2000/svg\" height=\"24px\"viewBox=\"0 0 24 24\"\n",
              "       width=\"24px\">\n",
              "    <path d=\"M0 0h24v24H0V0z\" fill=\"none\"/>\n",
              "    <path d=\"M18.56 5.44l.94 2.06.94-2.06 2.06-.94-2.06-.94-.94-2.06-.94 2.06-2.06.94zm-11 1L8.5 8.5l.94-2.06 2.06-.94-2.06-.94L8.5 2.5l-.94 2.06-2.06.94zm10 10l.94 2.06.94-2.06 2.06-.94-2.06-.94-.94-2.06-.94 2.06-2.06.94z\"/><path d=\"M17.41 7.96l-1.37-1.37c-.4-.4-.92-.59-1.43-.59-.52 0-1.04.2-1.43.59L10.3 9.45l-7.72 7.72c-.78.78-.78 2.05 0 2.83L4 21.41c.39.39.9.59 1.41.59.51 0 1.02-.2 1.41-.59l7.78-7.78 2.81-2.81c.8-.78.8-2.07 0-2.86zM5.41 20L4 18.59l7.72-7.72 1.47 1.35L5.41 20z\"/>\n",
              "  </svg>\n",
              "      </button>\n",
              "      \n",
              "  <style>\n",
              "    .colab-df-container {\n",
              "      display:flex;\n",
              "      flex-wrap:wrap;\n",
              "      gap: 12px;\n",
              "    }\n",
              "\n",
              "    .colab-df-convert {\n",
              "      background-color: #E8F0FE;\n",
              "      border: none;\n",
              "      border-radius: 50%;\n",
              "      cursor: pointer;\n",
              "      display: none;\n",
              "      fill: #1967D2;\n",
              "      height: 32px;\n",
              "      padding: 0 0 0 0;\n",
              "      width: 32px;\n",
              "    }\n",
              "\n",
              "    .colab-df-convert:hover {\n",
              "      background-color: #E2EBFA;\n",
              "      box-shadow: 0px 1px 2px rgba(60, 64, 67, 0.3), 0px 1px 3px 1px rgba(60, 64, 67, 0.15);\n",
              "      fill: #174EA6;\n",
              "    }\n",
              "\n",
              "    [theme=dark] .colab-df-convert {\n",
              "      background-color: #3B4455;\n",
              "      fill: #D2E3FC;\n",
              "    }\n",
              "\n",
              "    [theme=dark] .colab-df-convert:hover {\n",
              "      background-color: #434B5C;\n",
              "      box-shadow: 0px 1px 3px 1px rgba(0, 0, 0, 0.15);\n",
              "      filter: drop-shadow(0px 1px 2px rgba(0, 0, 0, 0.3));\n",
              "      fill: #FFFFFF;\n",
              "    }\n",
              "  </style>\n",
              "\n",
              "      <script>\n",
              "        const buttonEl =\n",
              "          document.querySelector('#df-61fb750c-ef2e-4c11-8de2-b52db965cdf3 button.colab-df-convert');\n",
              "        buttonEl.style.display =\n",
              "          google.colab.kernel.accessAllowed ? 'block' : 'none';\n",
              "\n",
              "        async function convertToInteractive(key) {\n",
              "          const element = document.querySelector('#df-61fb750c-ef2e-4c11-8de2-b52db965cdf3');\n",
              "          const dataTable =\n",
              "            await google.colab.kernel.invokeFunction('convertToInteractive',\n",
              "                                                     [key], {});\n",
              "          if (!dataTable) return;\n",
              "\n",
              "          const docLinkHtml = 'Like what you see? Visit the ' +\n",
              "            '<a target=\"_blank\" href=https://colab.research.google.com/notebooks/data_table.ipynb>data table notebook</a>'\n",
              "            + ' to learn more about interactive tables.';\n",
              "          element.innerHTML = '';\n",
              "          dataTable['output_type'] = 'display_data';\n",
              "          await google.colab.output.renderOutput(dataTable, element);\n",
              "          const docLink = document.createElement('div');\n",
              "          docLink.innerHTML = docLinkHtml;\n",
              "          element.appendChild(docLink);\n",
              "        }\n",
              "      </script>\n",
              "    </div>\n",
              "  </div>\n",
              "  "
            ]
          },
          "metadata": {},
          "execution_count": 13
        }
      ]
    },
    {
      "cell_type": "code",
      "source": [
        "df.info()"
      ],
      "metadata": {
        "colab": {
          "base_uri": "https://localhost:8080/"
        },
        "id": "AwsL_oZTvM65",
        "outputId": "4e243a00-74a5-4e72-f69c-dc6e14647f87"
      },
      "execution_count": null,
      "outputs": [
        {
          "output_type": "stream",
          "name": "stdout",
          "text": [
            "<class 'pandas.core.frame.DataFrame'>\n",
            "RangeIndex: 3855 entries, 0 to 3854\n",
            "Data columns (total 18 columns):\n",
            " #   Column                Non-Null Count  Dtype  \n",
            "---  ------                --------------  -----  \n",
            " 0   estu_genero           3855 non-null   int64  \n",
            " 1   fami_educacionpadre   3855 non-null   float64\n",
            " 2   fami_educacionmadre   3855 non-null   float64\n",
            " 3   fami_estratovivienda  3855 non-null   int64  \n",
            " 4   fami_tieneinternet    3855 non-null   int64  \n",
            " 5   fami_tienecomputador  3855 non-null   int64  \n",
            " 6   fami_tieneautomovil   3855 non-null   int64  \n",
            " 7   edad                  3855 non-null   int64  \n",
            " 8   pago_promedio         3855 non-null   float64\n",
            " 9   estu_economia         3855 non-null   int64  \n",
            " 10  distancia             3855 non-null   int64  \n",
            " 11  presencial            3855 non-null   int64  \n",
            " 12  punt_global           3855 non-null   int64  \n",
            " 13  Region Amazonica      3855 non-null   int64  \n",
            " 14  Region Andina         3855 non-null   int64  \n",
            " 15  Region Caribe         3855 non-null   int64  \n",
            " 16  Region Orinoquia      3855 non-null   int64  \n",
            " 17  Region Pacifica       3855 non-null   int64  \n",
            "dtypes: float64(3), int64(15)\n",
            "memory usage: 542.2 KB\n"
          ]
        }
      ]
    },
    {
      "cell_type": "code",
      "source": [
        "X = df.drop(columns = ['punt_global','distancia']).to_numpy()\n",
        "y = df[['punt_global']].to_numpy()"
      ],
      "metadata": {
        "id": "aJHCAhKltjnh"
      },
      "execution_count": null,
      "outputs": []
    },
    {
      "cell_type": "code",
      "source": [
        "scal = StandardScaler()\n",
        "X_scal = scal.fit_transform(X)"
      ],
      "metadata": {
        "id": "ipeQGoNi4acW"
      },
      "execution_count": null,
      "outputs": []
    },
    {
      "cell_type": "code",
      "source": [
        "X_train, X_test, y_train, y_test = train_test_split(X_scal, y, test_size=0.3, random_state=777)"
      ],
      "metadata": {
        "id": "lDSeW5Qstk9L"
      },
      "execution_count": null,
      "outputs": []
    },
    {
      "cell_type": "markdown",
      "source": [
        "## **Regresion Logistica** "
      ],
      "metadata": {
        "id": "20pjDkUJ6m2m"
      }
    },
    {
      "cell_type": "code",
      "source": [
        "warnings.filterwarnings('ignore')\n",
        "param_grid={'normalize':[True, False]}\n",
        "\n",
        "grid_search = GridSearchCV(LinearRegression(),param_grid,cv=6) # no ejecuto para optimizar tiempo \n",
        "grid_search.fit(X_train,y_train)\n",
        "\n",
        "\n",
        "reg = LinearRegression(**grid_search.best_params_)\n",
        "reg.fit(X_train,y_train)"
      ],
      "metadata": {
        "id": "fHz3YcJUtv_I",
        "colab": {
          "base_uri": "https://localhost:8080/"
        },
        "outputId": "b294ec5b-9d35-4ae5-d223-f401afd5b4b8"
      },
      "execution_count": 82,
      "outputs": [
        {
          "output_type": "execute_result",
          "data": {
            "text/plain": [
              "LinearRegression(normalize=True)"
            ]
          },
          "metadata": {},
          "execution_count": 82
        }
      ]
    },
    {
      "cell_type": "code",
      "source": [
        "scores_entrenamiento = []\n",
        "scores_testeo = []\n",
        "\n",
        "def scores_info():\n",
        "  y_train_pred = reg.predict(X_train)\n",
        "  print('Metricas dentro de Muestra entrenamiento')\n",
        "  s_train = r2_score(y_train,y_train_pred)\n",
        "  scores_entrenamiento.append(s_train)\n",
        "  print(f'R2 Score = {s_train}')\n",
        "  y_pred = reg.predict(X_test)\n",
        "  s_test = r2_score(y_test,y_pred)\n",
        "  scores_testeo.append(s_test)\n",
        "  print(' ')\n",
        "  print('Metricas Fuera de muestra de entrenamiento')\n",
        "  print(f'R2 Score = {s_test}')\n",
        "\n",
        "scores_info()\n",
        "# , r2_score, mean_absolute_error"
      ],
      "metadata": {
        "id": "fU0uYjXW43Nh",
        "colab": {
          "base_uri": "https://localhost:8080/"
        },
        "outputId": "2ed090a7-ccc3-4daf-8f60-2a7c0cb01b0e"
      },
      "execution_count": 83,
      "outputs": [
        {
          "output_type": "stream",
          "name": "stdout",
          "text": [
            "Metricas dentro de Muestra entrenamiento\n",
            "R2 Score = 0.27881680447490476\n",
            " \n",
            "Metricas Fuera de muestra de entrenamiento\n",
            "R2 Score = 0.2933745099807331\n"
          ]
        }
      ]
    },
    {
      "cell_type": "markdown",
      "source": [
        "## **RandomForest Regressor**"
      ],
      "metadata": {
        "id": "BgVY27qnPsvi"
      }
    },
    {
      "cell_type": "code",
      "source": [
        "param_grid={'criterion':['squared_error', 'absolute_error', 'poisson'],\n",
        "            'max_features':['sqrt', 'log2', 'None'],\n",
        "            'max_depth':[2,5,10,25]}\n",
        "\n",
        "grid_search = GridSearchCV(RandomForestRegressor(),param_grid,cv=6) # no ejecuto para optimizar tiempo \n",
        "grid_search.fit(X_train,y_train)\n",
        "\n",
        "reg = RandomForestRegressor(random_state=777, **grid_search.best_params_)\n",
        "reg.fit(X_train,y_train)"
      ],
      "metadata": {
        "colab": {
          "base_uri": "https://localhost:8080/"
        },
        "id": "TKIw6Y9IHoN-",
        "outputId": "6edc011f-59d6-45bd-9a77-339c0caa4f25"
      },
      "execution_count": 84,
      "outputs": [
        {
          "output_type": "execute_result",
          "data": {
            "text/plain": [
              "RandomForestRegressor(criterion='absolute_error', max_depth=10,\n",
              "                      max_features='log2', random_state=777)"
            ]
          },
          "metadata": {},
          "execution_count": 84
        }
      ]
    },
    {
      "cell_type": "code",
      "source": [
        "scores_info()"
      ],
      "metadata": {
        "colab": {
          "base_uri": "https://localhost:8080/"
        },
        "id": "17DrG3J8Pre3",
        "outputId": "340db70b-ed8b-43bf-d3e1-f133ad807b11"
      },
      "execution_count": 85,
      "outputs": [
        {
          "output_type": "stream",
          "name": "stdout",
          "text": [
            "Metricas dentro de Muestra entrenamiento\n",
            "R2 Score = 0.5493316740769705\n",
            " \n",
            "Metricas Fuera de muestra de entrenamiento\n",
            "R2 Score = 0.3170018268203263\n"
          ]
        }
      ]
    },
    {
      "cell_type": "markdown",
      "source": [
        "## **DecisionTree Regressor**"
      ],
      "metadata": {
        "id": "pNq8rMYdZ_pD"
      }
    },
    {
      "cell_type": "code",
      "source": [
        "param_grid = {'criterion':['squared_error','friedman_mse', 'absolute_error', 'poisson'],\n",
        "               'max_depth':[2,5,10,25],\n",
        "              'splitter':['best','random']}\n",
        "\n",
        "grid_search = GridSearchCV(DecisionTreeRegressor(),param_grid,cv=6) # no ejecuto para optimizar tiempo \n",
        "grid_search.fit(X_train,y_train)\n",
        "\n",
        "reg = DecisionTreeRegressor(random_state=777, **grid_search.best_params_)\n",
        "reg.fit(X_train,y_train)"
      ],
      "metadata": {
        "colab": {
          "base_uri": "https://localhost:8080/"
        },
        "id": "We2EKocQPrh8",
        "outputId": "0a266daf-cf8b-455e-fafc-de6c4af096b9"
      },
      "execution_count": 87,
      "outputs": [
        {
          "output_type": "execute_result",
          "data": {
            "text/plain": [
              "DecisionTreeRegressor(max_depth=5, random_state=777, splitter='random')"
            ]
          },
          "metadata": {},
          "execution_count": 87
        }
      ]
    },
    {
      "cell_type": "code",
      "source": [
        "scores_info()"
      ],
      "metadata": {
        "colab": {
          "base_uri": "https://localhost:8080/"
        },
        "id": "zKk2GyFPPrkq",
        "outputId": "7f0c1e80-02f8-498d-ada8-f168e6fe1170"
      },
      "execution_count": 88,
      "outputs": [
        {
          "output_type": "stream",
          "name": "stdout",
          "text": [
            "Metricas dentro de Muestra entrenamiento\n",
            "R2 Score = 0.30455730711461526\n",
            " \n",
            "Metricas Fuera de muestra de entrenamiento\n",
            "R2 Score = 0.2715782048494746\n"
          ]
        }
      ]
    },
    {
      "cell_type": "markdown",
      "source": [
        "## **Resultados**"
      ],
      "metadata": {
        "id": "-eAtQirDcOQP"
      }
    },
    {
      "cell_type": "code",
      "source": [
        "models = ['Regresion Lineal', 'Random Forest','Arbol de decision']\n",
        "resultados = pd.DataFrame(columns=['Metodo','Score Entrenamiento','Score Testeo'])\n",
        "resultados['Metodo'] = models\n",
        "resultados['Score Entrenamiento'] = scores_entrenamiento\n",
        "resultados['Score Testeo'] = scores_testeo\n",
        "resultados.set_index('Metodo')"
      ],
      "metadata": {
        "colab": {
          "base_uri": "https://localhost:8080/",
          "height": 175
        },
        "id": "55a7FNdwcfxD",
        "outputId": "881f5240-d518-4c36-c2b4-8cc4a874febf"
      },
      "execution_count": 105,
      "outputs": [
        {
          "output_type": "execute_result",
          "data": {
            "text/plain": [
              "                   Score Entrenamiento  Score Testeo\n",
              "Metodo                                              \n",
              "Regresion Lineal              0.278817      0.293375\n",
              "Random Forest                 0.549332      0.317002\n",
              "Arbol de decision             0.304557      0.271578"
            ],
            "text/html": [
              "\n",
              "  <div id=\"df-d12d5a64-8cc9-45e8-9396-91724762f460\">\n",
              "    <div class=\"colab-df-container\">\n",
              "      <div>\n",
              "<style scoped>\n",
              "    .dataframe tbody tr th:only-of-type {\n",
              "        vertical-align: middle;\n",
              "    }\n",
              "\n",
              "    .dataframe tbody tr th {\n",
              "        vertical-align: top;\n",
              "    }\n",
              "\n",
              "    .dataframe thead th {\n",
              "        text-align: right;\n",
              "    }\n",
              "</style>\n",
              "<table border=\"1\" class=\"dataframe\">\n",
              "  <thead>\n",
              "    <tr style=\"text-align: right;\">\n",
              "      <th></th>\n",
              "      <th>Score Entrenamiento</th>\n",
              "      <th>Score Testeo</th>\n",
              "    </tr>\n",
              "    <tr>\n",
              "      <th>Metodo</th>\n",
              "      <th></th>\n",
              "      <th></th>\n",
              "    </tr>\n",
              "  </thead>\n",
              "  <tbody>\n",
              "    <tr>\n",
              "      <th>Regresion Lineal</th>\n",
              "      <td>0.278817</td>\n",
              "      <td>0.293375</td>\n",
              "    </tr>\n",
              "    <tr>\n",
              "      <th>Random Forest</th>\n",
              "      <td>0.549332</td>\n",
              "      <td>0.317002</td>\n",
              "    </tr>\n",
              "    <tr>\n",
              "      <th>Arbol de decision</th>\n",
              "      <td>0.304557</td>\n",
              "      <td>0.271578</td>\n",
              "    </tr>\n",
              "  </tbody>\n",
              "</table>\n",
              "</div>\n",
              "      <button class=\"colab-df-convert\" onclick=\"convertToInteractive('df-d12d5a64-8cc9-45e8-9396-91724762f460')\"\n",
              "              title=\"Convert this dataframe to an interactive table.\"\n",
              "              style=\"display:none;\">\n",
              "        \n",
              "  <svg xmlns=\"http://www.w3.org/2000/svg\" height=\"24px\"viewBox=\"0 0 24 24\"\n",
              "       width=\"24px\">\n",
              "    <path d=\"M0 0h24v24H0V0z\" fill=\"none\"/>\n",
              "    <path d=\"M18.56 5.44l.94 2.06.94-2.06 2.06-.94-2.06-.94-.94-2.06-.94 2.06-2.06.94zm-11 1L8.5 8.5l.94-2.06 2.06-.94-2.06-.94L8.5 2.5l-.94 2.06-2.06.94zm10 10l.94 2.06.94-2.06 2.06-.94-2.06-.94-.94-2.06-.94 2.06-2.06.94z\"/><path d=\"M17.41 7.96l-1.37-1.37c-.4-.4-.92-.59-1.43-.59-.52 0-1.04.2-1.43.59L10.3 9.45l-7.72 7.72c-.78.78-.78 2.05 0 2.83L4 21.41c.39.39.9.59 1.41.59.51 0 1.02-.2 1.41-.59l7.78-7.78 2.81-2.81c.8-.78.8-2.07 0-2.86zM5.41 20L4 18.59l7.72-7.72 1.47 1.35L5.41 20z\"/>\n",
              "  </svg>\n",
              "      </button>\n",
              "      \n",
              "  <style>\n",
              "    .colab-df-container {\n",
              "      display:flex;\n",
              "      flex-wrap:wrap;\n",
              "      gap: 12px;\n",
              "    }\n",
              "\n",
              "    .colab-df-convert {\n",
              "      background-color: #E8F0FE;\n",
              "      border: none;\n",
              "      border-radius: 50%;\n",
              "      cursor: pointer;\n",
              "      display: none;\n",
              "      fill: #1967D2;\n",
              "      height: 32px;\n",
              "      padding: 0 0 0 0;\n",
              "      width: 32px;\n",
              "    }\n",
              "\n",
              "    .colab-df-convert:hover {\n",
              "      background-color: #E2EBFA;\n",
              "      box-shadow: 0px 1px 2px rgba(60, 64, 67, 0.3), 0px 1px 3px 1px rgba(60, 64, 67, 0.15);\n",
              "      fill: #174EA6;\n",
              "    }\n",
              "\n",
              "    [theme=dark] .colab-df-convert {\n",
              "      background-color: #3B4455;\n",
              "      fill: #D2E3FC;\n",
              "    }\n",
              "\n",
              "    [theme=dark] .colab-df-convert:hover {\n",
              "      background-color: #434B5C;\n",
              "      box-shadow: 0px 1px 3px 1px rgba(0, 0, 0, 0.15);\n",
              "      filter: drop-shadow(0px 1px 2px rgba(0, 0, 0, 0.3));\n",
              "      fill: #FFFFFF;\n",
              "    }\n",
              "  </style>\n",
              "\n",
              "      <script>\n",
              "        const buttonEl =\n",
              "          document.querySelector('#df-d12d5a64-8cc9-45e8-9396-91724762f460 button.colab-df-convert');\n",
              "        buttonEl.style.display =\n",
              "          google.colab.kernel.accessAllowed ? 'block' : 'none';\n",
              "\n",
              "        async function convertToInteractive(key) {\n",
              "          const element = document.querySelector('#df-d12d5a64-8cc9-45e8-9396-91724762f460');\n",
              "          const dataTable =\n",
              "            await google.colab.kernel.invokeFunction('convertToInteractive',\n",
              "                                                     [key], {});\n",
              "          if (!dataTable) return;\n",
              "\n",
              "          const docLinkHtml = 'Like what you see? Visit the ' +\n",
              "            '<a target=\"_blank\" href=https://colab.research.google.com/notebooks/data_table.ipynb>data table notebook</a>'\n",
              "            + ' to learn more about interactive tables.';\n",
              "          element.innerHTML = '';\n",
              "          dataTable['output_type'] = 'display_data';\n",
              "          await google.colab.output.renderOutput(dataTable, element);\n",
              "          const docLink = document.createElement('div');\n",
              "          docLink.innerHTML = docLinkHtml;\n",
              "          element.appendChild(docLink);\n",
              "        }\n",
              "      </script>\n",
              "    </div>\n",
              "  </div>\n",
              "  "
            ]
          },
          "metadata": {},
          "execution_count": 105
        }
      ]
    },
    {
      "cell_type": "code",
      "source": [
        " "
      ],
      "metadata": {
        "id": "JUjX3XtUq0CE"
      },
      "execution_count": null,
      "outputs": []
    }
  ]
}